{
 "cells": [
  {
   "cell_type": "code",
   "execution_count": 1,
   "metadata": {},
   "outputs": [],
   "source": [
    "from tkinter import *\n"
   ]
  },
  {
   "cell_type": "code",
   "execution_count": 5,
   "metadata": {},
   "outputs": [
    {
     "data": {
      "text/plain": [
       "''"
      ]
     },
     "execution_count": 5,
     "metadata": {},
     "output_type": "execute_result"
    }
   ],
   "source": [
    "master = Tk()\n",
    "master.geometry('600x600')"
   ]
  },
  {
   "cell_type": "code",
   "execution_count": 6,
   "metadata": {},
   "outputs": [
    {
     "data": {
      "text/plain": [
       "1"
      ]
     },
     "execution_count": 6,
     "metadata": {},
     "output_type": "execute_result"
    }
   ],
   "source": [
    "w = Canvas(master, width=400, height=600) \n",
    "w.pack() \n",
    "canvas_height=200\n",
    "canvas_width=200\n",
    "y = int(canvas_height / 2) \n",
    "w.create_line(0, y, canvas_width, y ) "
   ]
  },
  {
   "cell_type": "code",
   "execution_count": 7,
   "metadata": {},
   "outputs": [],
   "source": [
    "master.mainloop()"
   ]
  },
  {
   "cell_type": "code",
   "execution_count": 26,
   "metadata": {},
   "outputs": [],
   "source": [
    "root = Tk() \n",
    "frame = Frame(root) \n",
    "frame.pack() \n",
    "bottomframe = Frame(root) \n",
    "bottomframe.pack( side = BOTTOM ) \n",
    "redbutton = Button(frame, text = 'Red', fg ='red') \n",
    "redbutton.pack( side = LEFT) \n",
    "greenbutton = Button(frame, text = 'Brown', fg='brown') \n",
    "greenbutton.pack( side = LEFT ) \n",
    "bluebutton = Button(frame, text ='Blue', fg ='blue') \n",
    "bluebutton.pack( side = LEFT ) \n",
    "blackbutton = Button(bottomframe, text ='Black', fg ='black') \n",
    "blackbutton.pack( side = BOTTOM) \n",
    "root.mainloop() "
   ]
  },
  {
   "cell_type": "code",
   "execution_count": 25,
   "metadata": {},
   "outputs": [],
   "source": [
    "root = Tk() \n",
    "w = Label(root, text='GeeksForGeeks.org!') \n",
    "w.pack() \n",
    "root.mainloop() "
   ]
  },
  {
   "cell_type": "code",
   "execution_count": 28,
   "metadata": {},
   "outputs": [],
   "source": [
    "root = Tk() \n",
    "menu = Menu(root) \n",
    "root.config(menu=menu) \n",
    "filemenu = Menu(menu) \n",
    "menu.add_cascade(label='File', menu=filemenu) \n",
    "filemenu.add_command(label='New') \n",
    "filemenu.add_command(label='Open...') \n",
    "filemenu.add_separator() \n",
    "filemenu.add_command(label='Exit', command=root.quit) \n",
    "helpmenu = Menu(menu) \n",
    "menu.add_cascade(label='Help', menu=helpmenu) \n",
    "helpmenu.add_command(label='About') \n",
    "mainloop()"
   ]
  },
  {
   "cell_type": "code",
   "execution_count": null,
   "metadata": {},
   "outputs": [],
   "source": []
  }
 ],
 "metadata": {
  "kernelspec": {
   "display_name": "Python 3",
   "language": "python",
   "name": "python3"
  },
  "language_info": {
   "codemirror_mode": {
    "name": "ipython",
    "version": 3
   },
   "file_extension": ".py",
   "mimetype": "text/x-python",
   "name": "python",
   "nbconvert_exporter": "python",
   "pygments_lexer": "ipython3",
   "version": "3.7.3"
  }
 },
 "nbformat": 4,
 "nbformat_minor": 2
}
